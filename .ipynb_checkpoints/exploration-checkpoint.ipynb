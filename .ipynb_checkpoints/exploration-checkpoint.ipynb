{
 "cells": [
  {
   "cell_type": "markdown",
   "id": "5cb2e808",
   "metadata": {},
   "source": [
    "## Importing json data from URL"
   ]
  },
  {
   "cell_type": "code",
   "execution_count": 73,
   "id": "55bf99ca",
   "metadata": {},
   "outputs": [],
   "source": [
    "import urllib, json, re\n",
    "import pandas as pd\n",
    "import matplotlib.pyplot as plt\n",
    "\n",
    "%matplotlib inline\n",
    "plt.rcParams['figure.dpi'] = 100"
   ]
  },
  {
   "cell_type": "code",
   "execution_count": 7,
   "id": "55da7913",
   "metadata": {},
   "outputs": [],
   "source": [
    "url = 'https://unpkg.com/quran-json@latest/json/surahs.pretty.json'\n",
    "response = urllib.request.urlopen(url)\n",
    "data = json.loads(response.read())"
   ]
  },
  {
   "cell_type": "code",
   "execution_count": 10,
   "id": "cf175490",
   "metadata": {},
   "outputs": [
    {
     "data": {
      "text/html": [
       "<div>\n",
       "<style scoped>\n",
       "    .dataframe tbody tr th:only-of-type {\n",
       "        vertical-align: middle;\n",
       "    }\n",
       "\n",
       "    .dataframe tbody tr th {\n",
       "        vertical-align: top;\n",
       "    }\n",
       "\n",
       "    .dataframe thead th {\n",
       "        text-align: right;\n",
       "    }\n",
       "</style>\n",
       "<table border=\"1\" class=\"dataframe\">\n",
       "  <thead>\n",
       "    <tr style=\"text-align: right;\">\n",
       "      <th></th>\n",
       "      <th>number</th>\n",
       "      <th>name</th>\n",
       "      <th>transliteration_en</th>\n",
       "      <th>translation_en</th>\n",
       "      <th>total_verses</th>\n",
       "      <th>revelation_type</th>\n",
       "    </tr>\n",
       "  </thead>\n",
       "  <tbody>\n",
       "    <tr>\n",
       "      <th>0</th>\n",
       "      <td>1</td>\n",
       "      <td>سورة الفاتحة</td>\n",
       "      <td>Al-Faatiha</td>\n",
       "      <td>The Opening</td>\n",
       "      <td>7</td>\n",
       "      <td>Meccan</td>\n",
       "    </tr>\n",
       "    <tr>\n",
       "      <th>1</th>\n",
       "      <td>2</td>\n",
       "      <td>سورة البقرة</td>\n",
       "      <td>Al-Baqara</td>\n",
       "      <td>The Cow</td>\n",
       "      <td>286</td>\n",
       "      <td>Medinan</td>\n",
       "    </tr>\n",
       "    <tr>\n",
       "      <th>2</th>\n",
       "      <td>3</td>\n",
       "      <td>سورة آل عمران</td>\n",
       "      <td>Aal-i-Imraan</td>\n",
       "      <td>The Family of Imraan</td>\n",
       "      <td>200</td>\n",
       "      <td>Medinan</td>\n",
       "    </tr>\n",
       "    <tr>\n",
       "      <th>3</th>\n",
       "      <td>4</td>\n",
       "      <td>سورة النساء</td>\n",
       "      <td>An-Nisaa</td>\n",
       "      <td>The Women</td>\n",
       "      <td>176</td>\n",
       "      <td>Medinan</td>\n",
       "    </tr>\n",
       "    <tr>\n",
       "      <th>4</th>\n",
       "      <td>5</td>\n",
       "      <td>سورة المائدة</td>\n",
       "      <td>Al-Maaida</td>\n",
       "      <td>The Table</td>\n",
       "      <td>120</td>\n",
       "      <td>Medinan</td>\n",
       "    </tr>\n",
       "  </tbody>\n",
       "</table>\n",
       "</div>"
      ],
      "text/plain": [
       "   number           name transliteration_en        translation_en  \\\n",
       "0       1   سورة الفاتحة         Al-Faatiha           The Opening   \n",
       "1       2    سورة البقرة          Al-Baqara               The Cow   \n",
       "2       3  سورة آل عمران       Aal-i-Imraan  The Family of Imraan   \n",
       "3       4    سورة النساء           An-Nisaa             The Women   \n",
       "4       5   سورة المائدة          Al-Maaida             The Table   \n",
       "\n",
       "   total_verses revelation_type  \n",
       "0             7          Meccan  \n",
       "1           286         Medinan  \n",
       "2           200         Medinan  \n",
       "3           176         Medinan  \n",
       "4           120         Medinan  "
      ]
     },
     "execution_count": 10,
     "metadata": {},
     "output_type": "execute_result"
    }
   ],
   "source": [
    "surahs = pd.DataFrame(data)\n",
    "surahs.head()"
   ]
  },
  {
   "cell_type": "markdown",
   "id": "3601d15b",
   "metadata": {},
   "source": [
    " ## كم عدد السور المكية و المدنية؟"
   ]
  },
  {
   "cell_type": "code",
   "execution_count": 18,
   "id": "08caa672",
   "metadata": {},
   "outputs": [
    {
     "data": {
      "image/png": "[encoded data removed]",
      "text/plain": [
       "<Figure size 600x400 with 1 Axes>"
      ]
     },
     "metadata": {
      "needs_background": "light"
     },
     "output_type": "display_data"
    }
   ],
   "source": [
    "surahs.revelation_type.value_counts().plot(kind='bar');\n",
    "plt.xticks(rotation=0);"
   ]
  },
  {
   "cell_type": "markdown",
   "id": "b31e98c0",
   "metadata": {},
   "source": [
    " ## كم عدد الايات المكية و المدنية؟"
   ]
  },
  {
   "cell_type": "code",
   "execution_count": 20,
   "id": "dcc28c3b",
   "metadata": {},
   "outputs": [
    {
     "data": {
      "image/png": "[encoded data removed]",
      "text/plain": [
       "<Figure size 600x400 with 1 Axes>"
      ]
     },
     "metadata": {
      "needs_background": "light"
     },
     "output_type": "display_data"
    }
   ],
   "source": [
    "surahs.groupby('revelation_type')['total_verses'].sum().plot(kind='bar')\n",
    "plt.xticks(rotation=0);"
   ]
  },
  {
   "cell_type": "markdown",
   "id": "55935026",
   "metadata": {},
   "source": [
    "## كم عدد الكلمات المكية و المدنية؟"
   ]
  },
  {
   "cell_type": "code",
   "execution_count": 21,
   "id": "12f07d6c",
   "metadata": {},
   "outputs": [],
   "source": [
    "url = 'https://unpkg.com/quran-json@latest/json/quran/text.pretty.json'\n",
    "response = urllib.request.urlopen(url)\n",
    "data = json.loads(response.read())"
   ]
  },
  {
   "cell_type": "code",
   "execution_count": 25,
   "id": "9603e79b",
   "metadata": {},
   "outputs": [
    {
     "data": {
      "text/html": [
       "<div>\n",
       "<style scoped>\n",
       "    .dataframe tbody tr th:only-of-type {\n",
       "        vertical-align: middle;\n",
       "    }\n",
       "\n",
       "    .dataframe tbody tr th {\n",
       "        vertical-align: top;\n",
       "    }\n",
       "\n",
       "    .dataframe thead th {\n",
       "        text-align: right;\n",
       "    }\n",
       "</style>\n",
       "<table border=\"1\" class=\"dataframe\">\n",
       "  <thead>\n",
       "    <tr style=\"text-align: right;\">\n",
       "      <th></th>\n",
       "      <th>surah_number</th>\n",
       "      <th>verse_number</th>\n",
       "      <th>content</th>\n",
       "    </tr>\n",
       "  </thead>\n",
       "  <tbody>\n",
       "    <tr>\n",
       "      <th>0</th>\n",
       "      <td>1</td>\n",
       "      <td>1</td>\n",
       "      <td>بِسْمِ ٱللَّهِ ٱلرَّحْمَٰنِ ٱلرَّحِيمِ</td>\n",
       "    </tr>\n",
       "    <tr>\n",
       "      <th>1</th>\n",
       "      <td>1</td>\n",
       "      <td>2</td>\n",
       "      <td>ٱلْحَمْدُ لِلَّهِ رَبِّ ٱلْعَٰلَمِينَ</td>\n",
       "    </tr>\n",
       "    <tr>\n",
       "      <th>2</th>\n",
       "      <td>1</td>\n",
       "      <td>3</td>\n",
       "      <td>ٱلرَّحْمَٰنِ ٱلرَّحِيمِ</td>\n",
       "    </tr>\n",
       "    <tr>\n",
       "      <th>3</th>\n",
       "      <td>1</td>\n",
       "      <td>4</td>\n",
       "      <td>مَٰلِكِ يَوْمِ ٱلدِّينِ</td>\n",
       "    </tr>\n",
       "    <tr>\n",
       "      <th>4</th>\n",
       "      <td>1</td>\n",
       "      <td>5</td>\n",
       "      <td>إِيَّاكَ نَعْبُدُ وَإِيَّاكَ نَسْتَعِينُ</td>\n",
       "    </tr>\n",
       "  </tbody>\n",
       "</table>\n",
       "</div>"
      ],
      "text/plain": [
       "   surah_number  verse_number                                   content\n",
       "0             1             1    بِسْمِ ٱللَّهِ ٱلرَّحْمَٰنِ ٱلرَّحِيمِ\n",
       "1             1             2     ٱلْحَمْدُ لِلَّهِ رَبِّ ٱلْعَٰلَمِينَ\n",
       "2             1             3                   ٱلرَّحْمَٰنِ ٱلرَّحِيمِ\n",
       "3             1             4                   مَٰلِكِ يَوْمِ ٱلدِّينِ\n",
       "4             1             5  إِيَّاكَ نَعْبُدُ وَإِيَّاكَ نَسْتَعِينُ"
      ]
     },
     "execution_count": 25,
     "metadata": {},
     "output_type": "execute_result"
    }
   ],
   "source": [
    "text = pd.DataFrame(data)\n",
    "text.head()"
   ]
  },
  {
   "cell_type": "code",
   "execution_count": 35,
   "id": "b90e2e7b",
   "metadata": {},
   "outputs": [
    {
     "data": {
      "image/png": "[encoded data removed]",
      "text/plain": [
       "<Figure size 600x400 with 1 Axes>"
      ]
     },
     "metadata": {
      "needs_background": "light"
     },
     "output_type": "display_data"
    }
   ],
   "source": [
    "text['words_count'] = text.content.str.split().apply(len)\n",
    "text['words_count'].hist(grid=False);"
   ]
  },
  {
   "cell_type": "code",
   "execution_count": 48,
   "id": "a0946e70",
   "metadata": {},
   "outputs": [],
   "source": [
    "surah_revelation = surahs[['number', 'revelation_type']].set_index('number').to_dict()"
   ]
  },
  {
   "cell_type": "code",
   "execution_count": 50,
   "id": "b4498c11",
   "metadata": {},
   "outputs": [],
   "source": [
    "text['revelation_type'] = text['surah_number'].map(surah_revelation['revelation_type'])"
   ]
  },
  {
   "cell_type": "code",
   "execution_count": 56,
   "id": "5d308341",
   "metadata": {},
   "outputs": [
    {
     "data": {
      "image/png": "[encoded data removed]",
      "text/plain": [
       "<Figure size 600x400 with 1 Axes>"
      ]
     },
     "metadata": {
      "needs_background": "light"
     },
     "output_type": "display_data"
    }
   ],
   "source": [
    "# sanity check\n",
    "text.groupby('revelation_type')['content'].apply(len).plot(kind='bar')\n",
    "plt.xticks(rotation=0);"
   ]
  },
  {
   "cell_type": "code",
   "execution_count": 58,
   "id": "495e53ba",
   "metadata": {},
   "outputs": [
    {
     "data": {
      "image/png": "[encoded data removed]",
      "text/plain": [
       "<Figure size 600x400 with 1 Axes>"
      ]
     },
     "metadata": {
      "needs_background": "light"
     },
     "output_type": "display_data"
    }
   ],
   "source": [
    "text.groupby('revelation_type')['words_count'].sum().plot(kind='bar')\n",
    "plt.xticks(rotation=0);"
   ]
  },
  {
   "cell_type": "code",
   "execution_count": 65,
   "id": "b0845a4a",
   "metadata": {},
   "outputs": [
    {
     "data": {
      "image/png": "[encoded data removed]",
      "text/plain": [
       "<Figure size 600x400 with 1 Axes>"
      ]
     },
     "metadata": {
      "needs_background": "light"
     },
     "output_type": "display_data"
    }
   ],
   "source": [
    "text.groupby('revelation_type')['words_count'].median().plot(kind='bar');\n",
    "plt.xticks(rotation=0);"
   ]
  },
  {
   "cell_type": "code",
   "execution_count": 66,
   "id": "a7e6f62e",
   "metadata": {},
   "outputs": [
    {
     "data": {
      "image/png": "[encoded data removed]",
      "text/plain": [
       "<Figure size 600x400 with 1 Axes>"
      ]
     },
     "metadata": {
      "needs_background": "light"
     },
     "output_type": "display_data"
    }
   ],
   "source": [
    "surahs.groupby('revelation_type')['total_verses'].median().plot(kind='bar');\n",
    "plt.xticks(rotation=0);"
   ]
  },
  {
   "cell_type": "markdown",
   "id": "b8e4d2c8",
   "metadata": {},
   "source": [
    "Words count per verse is higher in Medinan surahs, while lower in Meccan ones. On the other hand, verses count in Meccan surah is higher than Medinan counterparts."
   ]
  },
  {
   "cell_type": "markdown",
   "id": "4a87fab8",
   "metadata": {},
   "source": [
    "## كم عدد الحروف المكية و المدنية؟"
   ]
  },
  {
   "cell_type": "code",
   "execution_count": 70,
   "id": "12006d86",
   "metadata": {},
   "outputs": [],
   "source": [
    "# in order to count the real number of letter, we have to remove diacritics\n",
    "def remove_diacritics(text):\n",
    "    arabic_diacritics = re.compile(\"\"\"\n",
    "                             ّ    | # Tashdid\n",
    "                             َ    | # Fatha\n",
    "                             ً    | # Tanwin Fath\n",
    "                             ُ    | # Damma\n",
    "                             ٌ    | # Tanwin Damm\n",
    "                             ِ    | # Kasra\n",
    "                             ٍ    | # Tanwin Kasr\n",
    "                             ْ    | # Sukun\n",
    "                             ـ     # Tatwil/Kashida\n",
    "                         \"\"\", re.VERBOSE)\n",
    "    text = re.sub(arabic_diacritics, '', text)\n",
    "    return text"
   ]
  },
  {
   "cell_type": "code",
   "execution_count": 102,
   "id": "2d4b151f",
   "metadata": {},
   "outputs": [
    {
     "data": {
      "text/plain": [
       "0       22\n",
       "1       20\n",
       "2       15\n",
       "3       14\n",
       "4       21\n",
       "        ..\n",
       "6231    10\n",
       "6232    11\n",
       "6233    19\n",
       "6234    22\n",
       "6235    15\n",
       "Name: content, Length: 6236, dtype: int64"
      ]
     },
     "execution_count": 102,
     "metadata": {},
     "output_type": "execute_result"
    }
   ],
   "source": [
    "text['content'].apply(remove_diacritics).str.replace(' ', '').str.split('').apply(len)"
   ]
  },
  {
   "cell_type": "code",
   "execution_count": 115,
   "id": "cc7c89ec",
   "metadata": {},
   "outputs": [],
   "source": [
    "text['chars_count'] = text['content'].apply(remove_diacritics).apply(lambda x: len(x) - x.count(' '))"
   ]
  },
  {
   "cell_type": "code",
   "execution_count": 116,
   "id": "2aaee3f2",
   "metadata": {},
   "outputs": [
    {
     "data": {
      "image/png": "[encoded data removed]",
      "text/plain": [
       "<Figure size 600x400 with 1 Axes>"
      ]
     },
     "metadata": {
      "needs_background": "light"
     },
     "output_type": "display_data"
    }
   ],
   "source": [
    "text.groupby('revelation_type')['chars_count'].sum().plot(kind='bar')\n",
    "plt.xticks(rotation=0);"
   ]
  },
  {
   "cell_type": "code",
   "execution_count": null,
   "id": "89f24fa4",
   "metadata": {},
   "outputs": [],
   "source": []
  },
  {
   "cell_type": "code",
   "execution_count": null,
   "id": "f0e63544",
   "metadata": {},
   "outputs": [],
   "source": []
  },
  {
   "cell_type": "code",
   "execution_count": null,
   "id": "3787812f",
   "metadata": {},
   "outputs": [],
   "source": []
  },
  {
   "cell_type": "code",
   "execution_count": null,
   "id": "b0f999be",
   "metadata": {},
   "outputs": [],
   "source": []
  }
 ],
 "metadata": {
  "kernelspec": {
   "display_name": "Python 3",
   "language": "python",
   "name": "python3"
  },
  "language_info": {
   "codemirror_mode": {
    "name": "ipython",
    "version": 3
   },
   "file_extension": ".py",
   "mimetype": "text/x-python",
   "name": "python",
   "nbconvert_exporter": "python",
   "pygments_lexer": "ipython3",
   "version": "3.7.0"
  }
 },
 "nbformat": 4,
 "nbformat_minor": 5
}
